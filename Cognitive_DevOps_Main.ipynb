{
    "cells": [
        {
            "metadata": {},
            "cell_type": "markdown",
            "source": "# Main Program for Cognitive DevOps\n\nThis is the main program which serves as an example of how to use the IBM_CogDevOps python pacjage to implement a full DevOps pipeline to support cognitive development for multiple development environments."
        },
        {
            "metadata": {},
            "cell_type": "code",
            "source": "#!/usr/bin/env python\n# -*- coding: utf-8 -*-\n# uses python 2.7\n#\nimport os\nimport sys\n#import subprocess\n#import argparse\n#import json\n#import codecs\n#import unicodecsv as csv\n#import pandas as pd\nimport string\nimport datetime\nimport re\n\n#################################################################\n#\n# Setup constants\n#\nLOGFILE = \"IBM_Cloud_DevOps.output.log\"\nDBLQUOTE = '\"'\nDEBUG = True\n#DEBUG = False\nAPI_ENDPOINTS = {\n    \"us-south\" : \"https://api.ng.bluemix.net\",\n    \"us-east\"  : \"https://api.us-east.bluemix.net\",\n    \"eu-gb\"    : \"https://api.eu-gb.bluemix.net\",\n    \"eu-de\"    : \"https://api.eu-de.bluemix.net\",\n    \"au-syd\"   : \"https://api.au-syd.bluemix.net\"\n    }\n\n#################################################################\n#\n# Setup global variables\n#\n\n# Main menu definition\nmenu_actions  = {}\n",
            "execution_count": 1,
            "outputs": []
        },
        {
            "metadata": {},
            "cell_type": "markdown",
            "source": "# Menu Selections\n\nThese routines all implement one of the defined menu selections"
        },
        {
            "metadata": {},
            "cell_type": "code",
            "source": "# ======================================================================================\n# show_environment - This routine displays the current DevOps environment.\n#\n# ======================================================================================\ndef show_environment():\n    print (\"hi Tox\")",
            "execution_count": 2,
            "outputs": []
        },
        {
            "metadata": {},
            "cell_type": "markdown",
            "source": "# Main Menu Functions\n\nRoutines for displaying user menus and handling user input"
        },
        {
            "metadata": {},
            "cell_type": "code",
            "source": "# =======================\n#     MENUS FUNCTIONS\n# =======================\n\n# Main menu\ndef main_menu():\n    os.system('clear')\n\n    print (\"Welcome to the IBM Cognitive DevOps tool,\")\n    print (\"Please choose the menu item that you want to execute:\")\n    print (\"1. Show Current Environment\")\n    print (\"\\n0. Quit\")\n    choice = input(\" >>  \")\n    exec_menu(choice)\n\n    return\n\n# Execute menu\ndef exec_menu(choice):\n    os.system('clear')\n    ch = choice.lower()\n    if ch == '':\n        ch = \"\"\n    else:\n        try:\n            menu_actions[ch]()\n        except KeyError:\n            print (\"Invalid selection, please try again.\\n\")\n    return\n\n# Back to main menu\ndef menu_back():\n    UserExit = False\n\n# Exit program\ndef menu_exit():\n    sys.exit()",
            "execution_count": 3,
            "outputs": []
        },
        {
            "metadata": {},
            "cell_type": "markdown",
            "source": "# Main program"
        },
        {
            "metadata": {},
            "cell_type": "code",
            "source": "# =======================\n#      MAIN PROGRAM\n# =======================\n# Menu definition\nmenu_actions = {\n    '1': show_environment,\n#    '2': s,\n#    '3': show_billing_summary_json,\n#    '4': show_billing_detail_json,\n#    '5': show_annual_billing_summary_json,\n#    '6': show_annual_billing_detail_json,\n#    '7': show_account_security,\n#    '8': add_users_to_account,\n#    'A': bx_modify_account,\n#    'D': bx_modify_defaults,\n#    'G': bx_modify_group,\n#    'O': bx_modify_org,\n#    'R': bx_modify_region,\n#    'S': bx_modify_space,\n#    'a': bx_modify_account,\n#    'd': bx_modify_defaults,\n#    'g': bx_modify_group,\n#    'o': bx_modify_org,\n#    'r': bx_modify_region,\n#    's': bx_modify_space,\n#    'u': bx_remove_users,\n    '9': menu_back,\n    '0': menu_exit,\n}\n\n# Main Program\nif __name__ == \"__main__\":\n    #\n    # Log into the IBM Cloud\n    #\n#    stat = IBMCloudLogin(cloudUser,cloudPwd,cloudToken,API_ENDPOINTS['us-south'])\n    stat = True\n    UserExit = False\n    #\n    # Check login status\n    #\n    if (stat):\n        #\n        # Run an interactive session\n        #\n        while (not UserExit):\n            try:\n                main_menu()\n            except:\n                print (\"Exiting program...\")\n                UserExit = True\n#\n# End of program",
            "execution_count": 4,
            "outputs": [
                {
                    "output_type": "stream",
                    "text": "Welcome to the IBM Cognitive DevOps tool,\nPlease choose the menu item that you want to execute:\n1. Show Current Environment\n\n0. Quit\n >>  1\nhi Tox\nWelcome to the IBM Cognitive DevOps tool,\nPlease choose the menu item that you want to execute:\n1. Show Current Environment\n\n0. Quit\n >>  0\nExiting program...\n",
                    "name": "stdout"
                }
            ]
        }
    ],
    "metadata": {
        "kernelspec": {
            "name": "python3",
            "display_name": "Python 3.6",
            "language": "python"
        },
        "language_info": {
            "name": "python",
            "version": "3.6.8",
            "mimetype": "text/x-python",
            "codemirror_mode": {
                "name": "ipython",
                "version": 3
            },
            "pygments_lexer": "ipython3",
            "nbconvert_exporter": "python",
            "file_extension": ".py"
        }
    },
    "nbformat": 4,
    "nbformat_minor": 1
}